{
 "cells": [
  {
   "cell_type": "markdown",
   "metadata": {},
   "source": [
    "This is to compare the capability of openai model and Hugging face model to see which model performs better with RAG\n",
    "This code is to provide visualization for text embeddings in vector search for NLP\n",
    "\n",
    "We will use: \n",
    "1. text_embeddings-ada-002: It has an embedding dimension of 1536. It is designed to capture the semantic meaning of text in a high-dimensional space.\n",
    "2. gpt 3.5 turbo\n",
    "3. sklearn.metrics.pairwise.cosine_similarity: : A function from the scikit-learn library that allows us to compute the similarity between vectors.\n",
    "4. sklearn.decomposition.PCA: Use to perform Principal Component Analysis (PCA), reducing the dimensionality of our embeddings to 2 and 3 dimensions for visualization purposes.\n",
    "5. mplcursors: An interactive data cursor for matplotlib, which allows us to explore the plots more intuitively."
   ]
  },
  {
   "cell_type": "code",
   "execution_count": null,
   "metadata": {},
   "outputs": [],
   "source": [
    "import os\n",
    "from openai import OpenAI\n",
    "from dotenv import load_dotenv\n",
    "import numpy as np\n",
    "import matplotlib.pyplot as plt \n",
    "import mplcursors\n",
    "from sklearn.decomposition import PCA\n",
    "from langchain.embeddings.openai import OpenAIEmbeddings\n",
    "# from langchain_openai import OpenAIEmbeddings\n",
    "from sklearn.metrics.pairwise import cosine_similarity\n",
    "from typing import List\n",
    "%matplotlib ipympl\n",
    "\n"
   ]
  },
  {
   "cell_type": "code",
   "execution_count": null,
   "metadata": {},
   "outputs": [],
   "source": [
    "load_dotenv()\n",
    "\n",
    "client = OpenAI(api_key=os.getenv(\"OPENAPI_KEY\"))\n"
   ]
  },
  {
   "cell_type": "markdown",
   "metadata": {},
   "source": [
    "Now we need to define function for plot_2D: Generates 2D plots of our vectorized text data, get_embeddings: Utilizes embedding model to convert text into numerical vectors and compute_cosine_similarity: compare different text examples based on their vector representations using cosine similarity."
   ]
  },
  {
   "cell_type": "code",
   "execution_count": null,
   "metadata": {},
   "outputs": [],
   "source": [
    "def plot_2D(x_values: List[float], y_values: List[float], labels: List[str]) :\n",
    "    \"\"\"\n",
    "    Plots a 2D scatter plot with interactive annotations.\n",
    "\n",
    "    Parameters:\n",
    "    x_values (List[float]): A list of x-coordinates for each point.\n",
    "    y_values (List[float]): A list of y-coordinates for each point.\n",
    "    labels (List[str]): A list of labels for each point.\n",
    "    \"\"\"\n",
    "    # Create scatter plot\n",
    "    fig, ax = plt.subplots()\n",
    "    scatter = ax.scatter(x_values, \n",
    "                         y_values, \n",
    "                         alpha=0.5, \n",
    "                         edgecolors='k',\n",
    "                         s=40) \n",
    "\n",
    "    # Create a mplcursors object to manage the data point interaction\n",
    "    cursor = mplcursors.cursor(scatter, hover=True)\n",
    "\n",
    "    # Set aesthetics\n",
    "    ax.set_title('Embedding visualization in 2D')  # Add a title\n",
    "    ax.set_xlabel('X_1')  # Add x-axis label\n",
    "    ax.set_ylabel('X_2')  # Add y-axis label\n",
    "\n",
    "    # Define how each annotation should look\n",
    "    @cursor.connect(\"add\")\n",
    "    def on_add(sel):\n",
    "        sel.annotation.set_text(labels[sel.target.index])\n",
    "        sel.annotation.get_bbox_patch().set(facecolor='white', alpha=0.5) # Set annotation's background color\n",
    "        sel.annotation.set_fontsize(12) \n",
    "\n",
    "    plt.show()\n"
   ]
  },
  {
   "cell_type": "code",
   "execution_count": null,
   "metadata": {},
   "outputs": [],
   "source": [
    "def get_embedding(text: str) -> List[float]:\n",
    "    \"\"\"\n",
    "    Retrieves the embedding for a given text.\n",
    "\n",
    "    Parameters:\n",
    "    text (str): The text to get the embedding for.\n",
    "\n",
    "    Returns:\n",
    "    List[float]: The embedding of the given text.\n",
    "    \"\"\"\n",
    "    response = client.embeddings.create(model=\"text-embedding-ada-002\", input=text)\n",
    "    \n",
    "    # response = openai.Embeddings.create(model=\"text-embedding-ada-002\", input=text)\n",
    "    # return response['data'][0]['embedding']\n",
    "    return response.data[0].embedding\n",
    "\n",
    "def compute_cosine_similarity(embeddings: np.ndarray, idx1: int, idx2: int) -> float:\n",
    "    \"\"\"\n",
    "    Computes the cosine similarity between two embeddings.\n",
    "\n",
    "    Parameters:\n",
    "    embeddings (np.ndarray): An array of embeddings.\n",
    "    idx1 (int): The index of the first embedding.\n",
    "    idx2 (int): The index of the second embedding.\n",
    "\n",
    "    Returns:\n",
    "    float: The cosine similarity between the two embeddings.\n",
    "    \"\"\"\n",
    "    return cosine_similarity([embeddings[idx1]],[embeddings[idx2]])[0][0]"
   ]
  },
  {
   "cell_type": "code",
   "execution_count": null,
   "metadata": {},
   "outputs": [],
   "source": [
    "animal_sen_1 = \"Elephants are known for their exceptional memory and intelligence, often living in complex social structures.\"\n",
    "animal_sen_2 = \"The blue whale is the largest animal on the planet, with a heart the size of a small car.\"\n",
    "animal_sen_3 = \"Peregrine falcons are among the fastest birds, reaching over 200 miles per hour during their hunting stoop.\"\n",
    "\n",
    "\n",
    "sport_sen_1 = \"Soccer, known as football outside of North America, is the world's most popular sport, with a fan base that spans across continents.\"\n",
    "sport_sen_2 = \"The modern Olympic Games, revived in 1896, are a global event that brings together athletes from over 200 nations.\"\n",
    "sport_sen_3 = \"Serena Williams has dominated women's tennis with 23 Grand Slam singles titles, making her one of the greatest athletes of all time.\"\n",
    "\n",
    "\n",
    "modern_society_sen_1 = \"The advent of the internet has transformed modern society, enabling global connectivity and access to information at an unprecedented scale.\"\n",
    "modern_society_sen_2 = \"Climate change has become one of the most pressing issues of modern society, with a growing consensus on the need for sustainable practices.\"\n",
    "modern_society_sen_3 = \"Social media has reshaped the way we communicate and consume information, influencing everything from politics to personal relationships.\"\n",
    "\n",
    "\n",
    "programming_sen_1 = \"C++ programmers harness the power of low-level memory manipulation, crafting efficient and high-performance software for a variety of applications.\"\n",
    "programming_sen_2 = \"Java developers thrive in building platform-independent solutions, leveraging the language's 'write once, run anywhere' philosophy for versatile and scalable applications.\"\n",
    "programming_sen_3 = \"Python programmers embrace the language's readability and expressiveness, creating elegant and concise code that facilitates rapid development across diverse domains.\"\n",
    "\n",
    "# combine all the examples in one list\n",
    "all_input_text = [\n",
    "    animal_sen_1, animal_sen_2, animal_sen_3,\n",
    "    sport_sen_1, sport_sen_2, sport_sen_3, \n",
    "    modern_society_sen_1, modern_society_sen_2, modern_society_sen_3,\n",
    "    programming_sen_1, programming_sen_2, programming_sen_3\n",
    "    ]"
   ]
  },
  {
   "cell_type": "code",
   "execution_count": null,
   "metadata": {},
   "outputs": [],
   "source": [
    "embeddings = []\n",
    "for input_text in all_input_text:\n",
    "    emb = get_embedding(input_text)\n",
    "    embeddings.append(emb)\n",
    "\n",
    "embeddings_array = np.array(embeddings)\n",
    "print(\"Shape: \" + str(embeddings_array.shape), \"\\n\")\n",
    "print(\"Sample array:\", embeddings_array[0])\n"
   ]
  }
 ],
 "metadata": {
  "kernelspec": {
   "display_name": "Python 3",
   "language": "python",
   "name": "python3"
  },
  "language_info": {
   "codemirror_mode": {
    "name": "ipython",
    "version": 3
   },
   "file_extension": ".py",
   "mimetype": "text/x-python",
   "name": "python",
   "nbconvert_exporter": "python",
   "pygments_lexer": "ipython3",
   "version": "3.10.1"
  }
 },
 "nbformat": 4,
 "nbformat_minor": 2
}
